{
 "cells": [
  {
   "cell_type": "code",
   "execution_count": null,
   "id": "3e0e99bc",
   "metadata": {},
   "outputs": [],
   "source": [
    "# download\n",
    "# !wget -O /root/data/rafic/aircrafts/data.zip https://www.robots.ox.ac.uk/~vgg/data/fgvc-aircraft/archives/fgvc-aircraft-2013b.tar.gz\n",
    "# !tar -xvzf /root/data/rafic/aircrafts/data.tar.gz -C /root/data/rafic/aircrafts/"
   ]
  },
  {
   "cell_type": "code",
   "execution_count": 10,
   "id": "4bdd563f",
   "metadata": {},
   "outputs": [],
   "source": [
    "import collections\n",
    "import json\n",
    "import mmh3  # pip install mmh3"
   ]
  },
  {
   "cell_type": "code",
   "execution_count": 14,
   "id": "60bb5824",
   "metadata": {},
   "outputs": [],
   "source": [
    "path_base = '/root/data/rafic/aircrafts/fgvc-aircraft-2013b'"
   ]
  },
  {
   "cell_type": "code",
   "execution_count": 15,
   "id": "9c6e6944",
   "metadata": {},
   "outputs": [],
   "source": [
    "dfa = pd.concat(\n",
    "    pd.read_csv(\n",
    "        f'{path_base}/data/images_{which}_{split}.txt',\n",
    "        delimiter=' ',\n",
    "        header=None,\n",
    "        names=['key', which],\n",
    "    )\n",
    "    for split in ('train', 'val', 'test')\n",
    "    for which in ('variant', 'manufacturer')\n",
    ")\n",
    "dfa = dfa[dfa.variant.notnull()][['key', 'variant']].merge(dfa[dfa.manufacturer.notnull()][['key', 'manufacturer']])\n",
    "dfa = dfa.assign(mfg=dfa.manufacturer.apply(lambda x: mmh3.hash(x, seed=1)))\n",
    "dfa = dfa.assign(split=dfa.mfg.apply(lambda x: 'train' if x % 10 < 6 else ('val' if x % 10 in {6, 7} else 'test')))\n",
    "dfa.to_csv(f'{path_base}/metadata.csv', index=False)\n",
    "data = collections.defaultdict(lambda: collections.defaultdict(list))\n",
    "\n",
    "for _, row in dfa.iterrows():\n",
    "    data[row.split][row.variant].append(row['key'])\n",
    "    \n",
    "for o in data:\n",
    "    for i in data[o]:\n",
    "        data[o][i] = sorted(data[o][i])\n",
    "        \n",
    "json.dump(data, open(f'{path_base}/metadata.json', 'w'))        "
   ]
  },
  {
   "cell_type": "code",
   "execution_count": 17,
   "id": "b2a3beff",
   "metadata": {},
   "outputs": [
    {
     "data": {
      "text/html": [
       "<div>\n",
       "<style scoped>\n",
       "    .dataframe tbody tr th:only-of-type {\n",
       "        vertical-align: middle;\n",
       "    }\n",
       "\n",
       "    .dataframe tbody tr th {\n",
       "        vertical-align: top;\n",
       "    }\n",
       "\n",
       "    .dataframe thead th {\n",
       "        text-align: right;\n",
       "    }\n",
       "</style>\n",
       "<table border=\"1\" class=\"dataframe\">\n",
       "  <thead>\n",
       "    <tr style=\"text-align: right;\">\n",
       "      <th></th>\n",
       "      <th>key</th>\n",
       "      <th>variant</th>\n",
       "      <th>manufacturer</th>\n",
       "      <th>mfg</th>\n",
       "      <th>split</th>\n",
       "    </tr>\n",
       "  </thead>\n",
       "  <tbody>\n",
       "    <tr>\n",
       "      <th>0</th>\n",
       "      <td>1025794</td>\n",
       "      <td>707-320</td>\n",
       "      <td>Boeing</td>\n",
       "      <td>591083324</td>\n",
       "      <td>train</td>\n",
       "    </tr>\n",
       "    <tr>\n",
       "      <th>1</th>\n",
       "      <td>1340192</td>\n",
       "      <td>707-320</td>\n",
       "      <td>Boeing</td>\n",
       "      <td>591083324</td>\n",
       "      <td>train</td>\n",
       "    </tr>\n",
       "    <tr>\n",
       "      <th>2</th>\n",
       "      <td>56978</td>\n",
       "      <td>707-320</td>\n",
       "      <td>Boeing</td>\n",
       "      <td>591083324</td>\n",
       "      <td>train</td>\n",
       "    </tr>\n",
       "    <tr>\n",
       "      <th>3</th>\n",
       "      <td>698580</td>\n",
       "      <td>707-320</td>\n",
       "      <td>Boeing</td>\n",
       "      <td>591083324</td>\n",
       "      <td>train</td>\n",
       "    </tr>\n",
       "    <tr>\n",
       "      <th>4</th>\n",
       "      <td>450014</td>\n",
       "      <td>707-320</td>\n",
       "      <td>Boeing</td>\n",
       "      <td>591083324</td>\n",
       "      <td>train</td>\n",
       "    </tr>\n",
       "    <tr>\n",
       "      <th>...</th>\n",
       "      <td>...</td>\n",
       "      <td>...</td>\n",
       "      <td>...</td>\n",
       "      <td>...</td>\n",
       "      <td>...</td>\n",
       "    </tr>\n",
       "    <tr>\n",
       "      <th>9995</th>\n",
       "      <td>383400</td>\n",
       "      <td>Yak-42</td>\n",
       "      <td>Yakovlev</td>\n",
       "      <td>-1199323723</td>\n",
       "      <td>val</td>\n",
       "    </tr>\n",
       "    <tr>\n",
       "      <th>9996</th>\n",
       "      <td>1117062</td>\n",
       "      <td>Yak-42</td>\n",
       "      <td>Yakovlev</td>\n",
       "      <td>-1199323723</td>\n",
       "      <td>val</td>\n",
       "    </tr>\n",
       "    <tr>\n",
       "      <th>9997</th>\n",
       "      <td>329381</td>\n",
       "      <td>Yak-42</td>\n",
       "      <td>Yakovlev</td>\n",
       "      <td>-1199323723</td>\n",
       "      <td>val</td>\n",
       "    </tr>\n",
       "    <tr>\n",
       "      <th>9998</th>\n",
       "      <td>523192</td>\n",
       "      <td>Yak-42</td>\n",
       "      <td>Yakovlev</td>\n",
       "      <td>-1199323723</td>\n",
       "      <td>val</td>\n",
       "    </tr>\n",
       "    <tr>\n",
       "      <th>9999</th>\n",
       "      <td>810303</td>\n",
       "      <td>Yak-42</td>\n",
       "      <td>Yakovlev</td>\n",
       "      <td>-1199323723</td>\n",
       "      <td>val</td>\n",
       "    </tr>\n",
       "  </tbody>\n",
       "</table>\n",
       "<p>10000 rows × 5 columns</p>\n",
       "</div>"
      ],
      "text/plain": [
       "          key  variant manufacturer         mfg  split\n",
       "0     1025794  707-320       Boeing   591083324  train\n",
       "1     1340192  707-320       Boeing   591083324  train\n",
       "2       56978  707-320       Boeing   591083324  train\n",
       "3      698580  707-320       Boeing   591083324  train\n",
       "4      450014  707-320       Boeing   591083324  train\n",
       "...       ...      ...          ...         ...    ...\n",
       "9995   383400   Yak-42     Yakovlev -1199323723    val\n",
       "9996  1117062   Yak-42     Yakovlev -1199323723    val\n",
       "9997   329381   Yak-42     Yakovlev -1199323723    val\n",
       "9998   523192   Yak-42     Yakovlev -1199323723    val\n",
       "9999   810303   Yak-42     Yakovlev -1199323723    val\n",
       "\n",
       "[10000 rows x 5 columns]"
      ]
     },
     "execution_count": 17,
     "metadata": {},
     "output_type": "execute_result"
    }
   ],
   "source": [
    "dfa"
   ]
  },
  {
   "attachments": {},
   "cell_type": "markdown",
   "id": "c261c2f5",
   "metadata": {},
   "source": [
    "## get CLIP embs"
   ]
  },
  {
   "cell_type": "code",
   "execution_count": 50,
   "id": "9052027f",
   "metadata": {},
   "outputs": [],
   "source": [
    "import clip\n",
    "import torch\n",
    "from PIL import Image\n",
    "from pathlib import Path\n",
    "from tqdm.auto import tqdm"
   ]
  },
  {
   "cell_type": "code",
   "execution_count": 21,
   "id": "ed08c17f",
   "metadata": {},
   "outputs": [],
   "source": [
    "device = \"cuda\" if torch.cuda.is_available() else \"cpu\"\n",
    "model, preprocess = clip.load(\"ViT-L/14@336px\", device=device)"
   ]
  },
  {
   "cell_type": "code",
   "execution_count": 46,
   "id": "24198481",
   "metadata": {},
   "outputs": [],
   "source": [
    "def encode_image(key: str):\n",
    "    key = f'{key:07d}'\n",
    "    path_emb = f'{path_base}/data/embeddings/{key}.np'\n",
    "    if not Path(path_emb).exists():\n",
    "        path = Path(f'{path_base}/data/images/{key}.jpg')\n",
    "        assert path.exists(), f\"path={path} exists\"\n",
    "        Path(path_emb).parent.mkdir(exist_ok=True, parents=True)\n",
    "        image = preprocess(Image.open(path)).unsqueeze(0).to(device)\n",
    "        emb = model.encode_image(image).squeeze().detach().numpy().astype(np.float16)\n",
    "        assert emb.shape == (768,)\n",
    "        np.save(open(path_emb, 'wb'), emb)"
   ]
  },
  {
   "cell_type": "code",
   "execution_count": 51,
   "id": "60f277b3",
   "metadata": {},
   "outputs": [
    {
     "data": {
      "application/vnd.jupyter.widget-view+json": {
       "model_id": "0126da20cce44ab0a5ad6f8ad4e592aa",
       "version_major": 2,
       "version_minor": 0
      },
      "text/plain": [
       "  0%|          | 0/10000 [00:00<?, ?it/s]"
      ]
     },
     "metadata": {},
     "output_type": "display_data"
    }
   ],
   "source": [
    "for key in tqdm(dfa['key']):\n",
    "    encode_image(key=key)"
   ]
  },
  {
   "cell_type": "code",
   "execution_count": 53,
   "id": "32ba33cd",
   "metadata": {},
   "outputs": [
    {
     "name": "stdout",
     "output_type": "stream",
     "text": [
      "total 20M\r\n",
      "-rw-r--r-- 1 root root 1.7K Nov 21 04:00 0034309.np\r\n",
      "-rw-r--r-- 1 root root 1.7K Nov 21 04:18 0034958.np\r\n",
      "-rw-r--r-- 1 root root 1.7K Nov 21 04:25 0037511.np\r\n",
      "-rw-r--r-- 1 root root 1.7K Nov 21 04:32 0037512.np\r\n",
      "-rw-r--r-- 1 root root 1.7K Nov 21 04:15 0038598.np\r\n",
      "-rw-r--r-- 1 root root 1.7K Nov 21 04:26 0038626.np\r\n",
      "-rw-r--r-- 1 root root 1.7K Nov 21 04:09 0038671.np\r\n",
      "-rw-r--r-- 1 root root 1.7K Nov 21 04:29 0041419.np\r\n",
      "-rw-r--r-- 1 root root 1.7K Nov 21 04:24 0043750.np\r\n",
      "ls: write error: Broken pipe\r\n"
     ]
    }
   ],
   "source": [
    "!ls -lh $path_base/data/embeddings/ | head"
   ]
  },
  {
   "cell_type": "code",
   "execution_count": 54,
   "id": "cc78cae2",
   "metadata": {},
   "outputs": [
    {
     "name": "stdout",
     "output_type": "stream",
     "text": [
      "10001\r\n"
     ]
    }
   ],
   "source": [
    "!ls -lh $path_base/data/embeddings/ | wc -l"
   ]
  },
  {
   "cell_type": "code",
   "execution_count": null,
   "id": "474375c0",
   "metadata": {},
   "outputs": [],
   "source": []
  }
 ],
 "metadata": {
  "hide_input": false,
  "kernelspec": {
   "display_name": "Python 3 (ipykernel)",
   "language": "python",
   "name": "python3"
  },
  "language_info": {
   "codemirror_mode": {
    "name": "ipython",
    "version": 3
   },
   "file_extension": ".py",
   "mimetype": "text/x-python",
   "name": "python",
   "nbconvert_exporter": "python",
   "pygments_lexer": "ipython3",
   "version": "3.7.12"
  }
 },
 "nbformat": 4,
 "nbformat_minor": 5
}
