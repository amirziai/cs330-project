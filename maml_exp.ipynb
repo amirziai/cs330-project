{
 "cells": [
  {
   "cell_type": "code",
   "execution_count": null,
   "metadata": {},
   "outputs": [],
   "source": [
    "! python3 ./rafic/maml.py --inner_lr 0.04 --num_inner_steps 5 --batch_size 4 --device gpu --num_way 5 --num_support 3 --num_query 10 --num_aug 0"
   ]
  },
  {
   "cell_type": "code",
   "execution_count": null,
   "metadata": {},
   "outputs": [],
   "source": []
  }
 ],
 "metadata": {
  "language_info": {
   "name": "python"
  }
 },
 "nbformat": 4,
 "nbformat_minor": 2
}
